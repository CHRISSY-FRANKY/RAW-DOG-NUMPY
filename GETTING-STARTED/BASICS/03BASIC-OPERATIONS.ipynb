{
 "cells": [
  {
   "cell_type": "code",
   "execution_count": 96,
   "metadata": {},
   "outputs": [
    {
     "name": "stdout",
     "output_type": "stream",
     "text": [
      "Numpy allows you to perform operations on arrays elementwise.\n"
     ]
    }
   ],
   "source": [
    "from random import randint\n",
    "def getNum():\n",
    "    return randint(1, 9)\n",
    "\n",
    "def getRandomList(count):\n",
    "    return np.array([getNum() for _ in range(count)])\n",
    "\n",
    "print(\"Numpy allows you to perform operations on arrays elementwise.\")\n"
   ]
  },
  {
   "cell_type": "code",
   "execution_count": 115,
   "metadata": {},
   "outputs": [
    {
     "name": "stdout",
     "output_type": "stream",
     "text": [
      "Let's subtract a pair!\n",
      "arr1 - arr2 = arr3\n",
      "[2 6 1] - [7 8 3] = [-5 -2 -2]\n"
     ]
    }
   ],
   "source": [
    "import numpy as np\n",
    "print(\"Let's subtract a pair!\")\n",
    "arr1 = getRandomList(3)\n",
    "arr2 = getRandomList(3)\n",
    "arr3 = arr1 - arr2\n",
    "print(\"arr1 - arr2 = arr3\")\n",
    "print(arr1, \"-\", arr2, \"=\", arr3)"
   ]
  },
  {
   "cell_type": "code",
   "execution_count": 116,
   "metadata": {},
   "outputs": [
    {
     "name": "stdout",
     "output_type": "stream",
     "text": [
      "Let's power each value by 2!\n"
     ]
    }
   ],
   "source": [
    "print(\"Let's power each value by 2!\")\n"
   ]
  },
  {
   "cell_type": "code",
   "execution_count": 117,
   "metadata": {},
   "outputs": [
    {
     "name": "stdout",
     "output_type": "stream",
     "text": [
      "arr1 ^ 2 = arr2\n",
      "[2 6 1] ** 2 = [ 4 36  1]\n"
     ]
    }
   ],
   "source": [
    "print(\"arr1 ^ 2 = arr2\")\n",
    "print(arr1, \"**\", 2, \"=\", arr1**2)"
   ]
  },
  {
   "cell_type": "code",
   "execution_count": 118,
   "metadata": {},
   "outputs": [
    {
     "name": "stdout",
     "output_type": "stream",
     "text": [
      "Let's take 10 to the power of multiples of e!\n"
     ]
    }
   ],
   "source": [
    "print(\"Let's take 10 to the power of multiples of e!\")"
   ]
  },
  {
   "cell_type": "code",
   "execution_count": 119,
   "metadata": {},
   "outputs": [
    {
     "name": "stdout",
     "output_type": "stream",
     "text": [
      "Let's multiply 69 by the cosine of every number in an array!\n"
     ]
    }
   ],
   "source": [
    "print(\"Let's multiply 69 by the cosine of every number in an array!\")"
   ]
  },
  {
   "cell_type": "code",
   "execution_count": 120,
   "metadata": {},
   "outputs": [
    {
     "name": "stdout",
     "output_type": "stream",
     "text": [
      "69 * np.cos(arr1) = arr2\n",
      "69 * np.cos( [2 6 1] ) = [-28.71413172  66.25174978  37.2808591 ]\n",
      "69 *  [-0.4161468365471424, 0.960170286650366, 0.5403023058681398]  = [-28.71413172  66.25174978  37.2808591 ]\n",
      "[-28.714131721752825, 66.25174977887525, 37.280859104901644]  = [-28.71413172  66.25174978  37.2808591 ]\n"
     ]
    }
   ],
   "source": [
    "print(\"69 * np.cos(arr1) = arr2\")\n",
    "arr2 = 69 * np.cos(arr1)\n",
    "print(\"69 * np.cos(\", arr1, \") =\", arr2)\n",
    "print(\"69 * \", [np.cos(i) for i in arr1], \" =\", arr2)\n",
    "print([69 * np.cos(i) for i in arr1], \" =\", arr2)\n"
   ]
  },
  {
   "cell_type": "code",
   "execution_count": 121,
   "metadata": {},
   "outputs": [
    {
     "name": "stdout",
     "output_type": "stream",
     "text": [
      "Let's compare to each value!\n"
     ]
    }
   ],
   "source": [
    "print(\"Let's compare to each value!\")"
   ]
  },
  {
   "cell_type": "code",
   "execution_count": 122,
   "metadata": {},
   "outputs": [
    {
     "name": "stdout",
     "output_type": "stream",
     "text": [
      "arr1 < 6.9 = arr2\n",
      "[2 6 1] < 6.9 = [ True  True  True]\n"
     ]
    }
   ],
   "source": [
    "print(\"arr1 < 6.9 = arr2\")\n",
    "arr2 = arr1 < 6.9\n",
    "print(arr1, \"<\",6.9 ,\"=\", arr2)"
   ]
  },
  {
   "cell_type": "code",
   "execution_count": 123,
   "metadata": {},
   "outputs": [
    {
     "name": "stdout",
     "output_type": "stream",
     "text": [
      "Let's perform matrix multiplication!\n",
      "arr1\n",
      "x\n",
      "arr2\n",
      "=\n",
      "arr3\n",
      "\n",
      "[[8 9]\n",
      " [4 3]] \n",
      "x\n",
      " [[1 9]\n",
      " [5 1]] \n",
      "=\n",
      " [[53 81]\n",
      " [19 39]]\n"
     ]
    }
   ],
   "source": [
    "print(\"Let's perform matrix multiplication!\")\n",
    "def get2DArr(row, column):\n",
    "    return np.array([[getNum() for _ in range(column)] for _ in range(row)])\n",
    "arr1 = get2DArr(2, 2)\n",
    "arr2 = get2DArr(2, 2)\n",
    "print(\"arr1\\nx\\narr2\\n=\\narr3\\n\")\n",
    "print(arr1, \"\\nx\\n\", arr2, \"\\n=\\n\", arr1 @ arr2)"
   ]
  },
  {
   "cell_type": "code",
   "execution_count": 124,
   "metadata": {},
   "outputs": [
    {
     "name": "stdout",
     "output_type": "stream",
     "text": [
      "Other than @, what else is available to perform matrix multiplication?\n"
     ]
    }
   ],
   "source": [
    "print(\"Other than @, what else is available to perform matrix multiplication?\")"
   ]
  },
  {
   "cell_type": "code",
   "execution_count": 125,
   "metadata": {},
   "outputs": [
    {
     "name": "stdout",
     "output_type": "stream",
     "text": [
      "arr1\n",
      "x\n",
      "arr2\n",
      "=\n",
      "arr3\n",
      "\n",
      "[[8 9]\n",
      " [4 3]] \n",
      "x\n",
      " [[1 9]\n",
      " [5 1]] \n",
      "=\n",
      " [[53 81]\n",
      " [19 39]]\n"
     ]
    }
   ],
   "source": [
    "print(\"arr1\\nx\\narr2\\n=\\narr3\\n\")\n",
    "print(arr1, \"\\nx\\n\", arr2, \"\\n=\\n\", arr1.dot(arr2))"
   ]
  },
  {
   "cell_type": "code",
   "execution_count": 126,
   "metadata": {},
   "outputs": [
    {
     "name": "stdout",
     "output_type": "stream",
     "text": [
      ".dot\n"
     ]
    }
   ],
   "source": [
    "print(\".dot\")"
   ]
  },
  {
   "cell_type": "code",
   "execution_count": 127,
   "metadata": {},
   "outputs": [
    {
     "name": "stdout",
     "output_type": "stream",
     "text": [
      "modifying an existing array rather than create a new one!\n"
     ]
    }
   ],
   "source": [
    "print(\"modifying an existing array rather than create a new one!\")"
   ]
  },
  {
   "cell_type": "code",
   "execution_count": 131,
   "metadata": {},
   "outputs": [
    {
     "name": "stdout",
     "output_type": "stream",
     "text": [
      "arr1 += 1\n",
      "[[1 3 6]\n",
      " [7 8 5]] += 1\n"
     ]
    },
    {
     "data": {
      "text/plain": [
       "array([[2, 4, 7],\n",
       "       [8, 9, 6]])"
      ]
     },
     "execution_count": 131,
     "metadata": {},
     "output_type": "execute_result"
    }
   ],
   "source": [
    "arr1 = get2DArr(2, 3)\n",
    "print(\"arr1 += 1\")\n",
    "print(arr1, \"+=\", 1)\n",
    "arr1 += 1\n",
    "arr1"
   ]
  },
  {
   "cell_type": "code",
   "execution_count": 133,
   "metadata": {},
   "outputs": [
    {
     "name": "stdout",
     "output_type": "stream",
     "text": [
      "arr2 *= 2\n",
      "[[9 7 8]\n",
      " [6 4 8]] *= 2\n"
     ]
    },
    {
     "data": {
      "text/plain": [
       "array([[18, 14, 16],\n",
       "       [12,  8, 16]])"
      ]
     },
     "execution_count": 133,
     "metadata": {},
     "output_type": "execute_result"
    }
   ],
   "source": [
    "arr2 = get2DArr(2, 3)\n",
    "print(\"arr2 *= 2\")\n",
    "print(arr2, \"*=\", 2)\n",
    "arr2 *= 2\n",
    "arr2"
   ]
  },
  {
   "cell_type": "code",
   "execution_count": 139,
   "metadata": {},
   "outputs": [
    {
     "name": "stdout",
     "output_type": "stream",
     "text": [
      "getting random with python\n",
      "from random import randint\n",
      "num = randint(1, 9)\n",
      "num\n",
      "\n"
     ]
    },
    {
     "data": {
      "text/plain": [
       "2"
      ]
     },
     "execution_count": 139,
     "metadata": {},
     "output_type": "execute_result"
    }
   ],
   "source": [
    "print(\"\"\"getting random with python\n",
    "from random import randint\n",
    "num = randint(1, 9)\n",
    "num\n",
    "\"\"\")\n",
    "from random import randint\n",
    "num = randint(1, 9)\n",
    "num"
   ]
  },
  {
   "cell_type": "code",
   "execution_count": 157,
   "metadata": {},
   "outputs": [
    {
     "name": "stdout",
     "output_type": "stream",
     "text": [
      "getting random with numpy\n",
      "rg = np.random.default_rng(1)\n",
      "nums = rg.random((2, 2))\n",
      "nums *= 10 \n",
      "nums\n",
      "      \n"
     ]
    },
    {
     "data": {
      "text/plain": [
       "array([[5.11821625, 9.50463696],\n",
       "       [1.44159613, 9.48649447]])"
      ]
     },
     "execution_count": 157,
     "metadata": {},
     "output_type": "execute_result"
    }
   ],
   "source": [
    "print(\"\"\"getting random with numpy\n",
    "rg = np.random.default_rng(1)\n",
    "nums = rg.random((2, 2))\n",
    "nums *= 10 \n",
    "nums\n",
    "      \"\"\")\n",
    "rg = np.random.default_rng(1)\n",
    "nums = rg.random((2, 2))\n",
    "nums *= 10 \n",
    "nums\n"
   ]
  },
  {
   "cell_type": "code",
   "execution_count": 169,
   "metadata": {},
   "outputs": [
    {
     "name": "stdout",
     "output_type": "stream",
     "text": [
      "but a random numpy matrix doesn't automatically convert to one another\n"
     ]
    }
   ],
   "source": [
    "print(\"but a random numpy matrix doesn't automatically convert to one another\")"
   ]
  },
  {
   "cell_type": "code",
   "execution_count": 170,
   "metadata": {},
   "outputs": [
    {
     "name": "stdout",
     "output_type": "stream",
     "text": [
      "\n",
      "nums_one = np.ones((2, 2), dtype=int)\n",
      "nums_one\n",
      "\n"
     ]
    },
    {
     "data": {
      "text/plain": [
       "array([[1, 1],\n",
       "       [1, 1]])"
      ]
     },
     "execution_count": 170,
     "metadata": {},
     "output_type": "execute_result"
    }
   ],
   "source": [
    "print(\"\"\"\n",
    "nums_one = np.ones((2, 2), dtype=int)\n",
    "nums_one\n",
    "\"\"\")\n",
    "nums_one = np.ones((2, 2), dtype=int)\n",
    "nums_one"
   ]
  },
  {
   "cell_type": "code",
   "execution_count": 173,
   "metadata": {},
   "outputs": [
    {
     "name": "stdout",
     "output_type": "stream",
     "text": [
      "\n",
      "float += integer\n",
      "nums += nums_one\n",
      "nums\n",
      "\n"
     ]
    },
    {
     "data": {
      "text/plain": [
       "array([[12.11821625, 16.50463696],\n",
       "       [ 8.44159613, 16.48649447]])"
      ]
     },
     "execution_count": 173,
     "metadata": {},
     "output_type": "execute_result"
    }
   ],
   "source": [
    "print(\"\"\"\n",
    "float += integer\n",
    "nums += nums_one\n",
    "nums\n",
    "\"\"\")\n",
    "nums += nums_one\n",
    "nums"
   ]
  },
  {
   "cell_type": "code",
   "execution_count": 176,
   "metadata": {},
   "outputs": [
    {
     "name": "stdout",
     "output_type": "stream",
     "text": [
      "\n",
      "integer += float\n",
      "nums_one += nums\n",
      "nums_one\n"
     ]
    },
    {
     "ename": "UFuncTypeError",
     "evalue": "Cannot cast ufunc 'add' output from dtype('float64') to dtype('int32') with casting rule 'same_kind'",
     "output_type": "error",
     "traceback": [
      "\u001b[1;31m---------------------------------------------------------------------------\u001b[0m",
      "\u001b[1;31mUFuncTypeError\u001b[0m                            Traceback (most recent call last)",
      "Cell \u001b[1;32mIn[176], line 5\u001b[0m\n\u001b[0;32m      1\u001b[0m \u001b[38;5;28mprint\u001b[39m(\u001b[38;5;124m\"\"\"\u001b[39m\n\u001b[0;32m      2\u001b[0m \u001b[38;5;124minteger += float\u001b[39m\n\u001b[0;32m      3\u001b[0m \u001b[38;5;124mnums_one += nums\u001b[39m\n\u001b[0;32m      4\u001b[0m \u001b[38;5;124mnums_one\u001b[39m\u001b[38;5;124m\"\"\"\u001b[39m)\n\u001b[1;32m----> 5\u001b[0m nums_one \u001b[38;5;241m+\u001b[39m\u001b[38;5;241m=\u001b[39m nums\n\u001b[0;32m      6\u001b[0m nums_one\n",
      "\u001b[1;31mUFuncTypeError\u001b[0m: Cannot cast ufunc 'add' output from dtype('float64') to dtype('int32') with casting rule 'same_kind'"
     ]
    }
   ],
   "source": [
    "print(\"\"\"\n",
    "integer += float\n",
    "nums_one += nums\n",
    "nums_one\"\"\")\n",
    "nums_one += nums\n",
    "nums_one"
   ]
  },
  {
   "cell_type": "code",
   "execution_count": 180,
   "metadata": {},
   "outputs": [
    {
     "name": "stdout",
     "output_type": "stream",
     "text": [
      "some unary operations methods of the ndarray class\n"
     ]
    },
    {
     "data": {
      "text/plain": [
       "array([[0.54959369, 0.02755911],\n",
       "       [0.75351311, 0.53814331]])"
      ]
     },
     "execution_count": 180,
     "metadata": {},
     "output_type": "execute_result"
    }
   ],
   "source": [
    "print(\"some unary operations methods of the ndarray class\")\n",
    "arr4 = rg.random((2,2))\n",
    "arr4"
   ]
  },
  {
   "cell_type": "code",
   "execution_count": 181,
   "metadata": {},
   "outputs": [
    {
     "data": {
      "text/plain": [
       "1.8688092228102127"
      ]
     },
     "execution_count": 181,
     "metadata": {},
     "output_type": "execute_result"
    }
   ],
   "source": [
    "arr4.sum()"
   ]
  },
  {
   "cell_type": "code",
   "execution_count": 182,
   "metadata": {},
   "outputs": [
    {
     "data": {
      "text/plain": [
       "0.027559113243068367"
      ]
     },
     "execution_count": 182,
     "metadata": {},
     "output_type": "execute_result"
    }
   ],
   "source": [
    "arr4.min()"
   ]
  },
  {
   "cell_type": "code",
   "execution_count": 183,
   "metadata": {},
   "outputs": [
    {
     "data": {
      "text/plain": [
       "0.7535131086748066"
      ]
     },
     "execution_count": 183,
     "metadata": {},
     "output_type": "execute_result"
    }
   ],
   "source": [
    "arr4.max()"
   ]
  },
  {
   "cell_type": "code",
   "execution_count": 184,
   "metadata": {},
   "outputs": [
    {
     "name": "stdout",
     "output_type": "stream",
     "text": [
      "how to apply unary operations methods of the ndarray class along a specified axis of an array?\n"
     ]
    }
   ],
   "source": [
    "print(\"how to apply unary operations methods of the ndarray class along a specified axis of an array?\")"
   ]
  },
  {
   "cell_type": "code",
   "execution_count": 186,
   "metadata": {},
   "outputs": [
    {
     "data": {
      "text/plain": [
       "array([[5.49593688, 0.27559113],\n",
       "       [7.53513109, 5.38143313]])"
      ]
     },
     "execution_count": 186,
     "metadata": {},
     "output_type": "execute_result"
    }
   ],
   "source": [
    "arr5 = arr4 * 10\n",
    "arr5"
   ]
  },
  {
   "cell_type": "code",
   "execution_count": 188,
   "metadata": {},
   "outputs": [
    {
     "name": "stdout",
     "output_type": "stream",
     "text": [
      "column wise\n"
     ]
    },
    {
     "data": {
      "text/plain": [
       "array([13.03106796,  5.65702426])"
      ]
     },
     "execution_count": 188,
     "metadata": {},
     "output_type": "execute_result"
    }
   ],
   "source": [
    "print(\"column wise\")\n",
    "arr5.sum(axis=0)"
   ]
  },
  {
   "cell_type": "code",
   "execution_count": 189,
   "metadata": {},
   "outputs": [
    {
     "name": "stdout",
     "output_type": "stream",
     "text": [
      "row wise\n"
     ]
    },
    {
     "data": {
      "text/plain": [
       "array([ 5.77152801, 12.91656422])"
      ]
     },
     "execution_count": 189,
     "metadata": {},
     "output_type": "execute_result"
    }
   ],
   "source": [
    "print(\"row wise\")\n",
    "arr5.sum(axis=1)"
   ]
  },
  {
   "cell_type": "code",
   "execution_count": 191,
   "metadata": {},
   "outputs": [
    {
     "name": "stdout",
     "output_type": "stream",
     "text": [
      "row wise cum sum\n"
     ]
    },
    {
     "data": {
      "text/plain": [
       "array([[ 5.49593688,  5.77152801],\n",
       "       [ 7.53513109, 12.91656422]])"
      ]
     },
     "execution_count": 191,
     "metadata": {},
     "output_type": "execute_result"
    }
   ],
   "source": [
    "print(\"row wise cum sum\")\n",
    "arr5.cumsum(axis=1)"
   ]
  },
  {
   "cell_type": "code",
   "execution_count": null,
   "metadata": {},
   "outputs": [],
   "source": []
  }
 ],
 "metadata": {
  "kernelspec": {
   "display_name": "base",
   "language": "python",
   "name": "python3"
  },
  "language_info": {
   "codemirror_mode": {
    "name": "ipython",
    "version": 3
   },
   "file_extension": ".py",
   "mimetype": "text/x-python",
   "name": "python",
   "nbconvert_exporter": "python",
   "pygments_lexer": "ipython3",
   "version": "3.12.7"
  }
 },
 "nbformat": 4,
 "nbformat_minor": 2
}
