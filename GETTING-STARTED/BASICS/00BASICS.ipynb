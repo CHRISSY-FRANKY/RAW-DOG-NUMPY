{
 "cells": [
  {
   "cell_type": "code",
   "execution_count": 77,
   "id": "9b3be175",
   "metadata": {},
   "outputs": [
    {
     "name": "stdout",
     "output_type": "stream",
     "text": [
      "What is NumPy's main object?\n"
     ]
    }
   ],
   "source": [
    "import json\n",
    "with open('00BASICS-ANSWERS.json') as f:\n",
    "    data = json.load(f)\n",
    "answer = data['0']\n",
    "\n",
    "print(\"What is NumPy's main object?\")\n",
    "    "
   ]
  },
  {
   "cell_type": "code",
   "execution_count": 78,
   "id": "9366cc34",
   "metadata": {},
   "outputs": [
    {
     "name": "stdout",
     "output_type": "stream",
     "text": [
      "homogenous multidimensional array\n"
     ]
    }
   ],
   "source": [
    "print(answer)"
   ]
  },
  {
   "cell_type": "code",
   "execution_count": 79,
   "id": "349e37e3",
   "metadata": {},
   "outputs": [
    {
     "name": "stdout",
     "output_type": "stream",
     "text": [
      "What is a homogenous multidimensional array?\n"
     ]
    }
   ],
   "source": [
    "print(f\"What is a {answer}?\")\n",
    "answer = data['1']"
   ]
  },
  {
   "cell_type": "code",
   "execution_count": 80,
   "id": "984240cb",
   "metadata": {},
   "outputs": [
    {
     "name": "stdout",
     "output_type": "stream",
     "text": [
      "table of elements, all of the same type, indexed by a tuple of non-negative integers\n"
     ]
    }
   ],
   "source": [
    "print(answer)"
   ]
  },
  {
   "cell_type": "code",
   "execution_count": 81,
   "id": "bde4ca10",
   "metadata": {},
   "outputs": [
    {
     "name": "stdout",
     "output_type": "stream",
     "text": [
      "What are dimensions called in numpy?\n"
     ]
    }
   ],
   "source": [
    "print(\"What are dimensions called in numpy?\")\n",
    "answer = data['2']"
   ]
  },
  {
   "cell_type": "code",
   "execution_count": 82,
   "id": "169b0859",
   "metadata": {},
   "outputs": [
    {
     "data": {
      "text/plain": [
       "'axes'"
      ]
     },
     "execution_count": 82,
     "metadata": {},
     "output_type": "execute_result"
    }
   ],
   "source": [
    "answer"
   ]
  },
  {
   "cell_type": "code",
   "execution_count": 83,
   "id": "c4d7c294",
   "metadata": {},
   "outputs": [
    {
     "name": "stdout",
     "output_type": "stream",
     "text": [
      "Don't know why they call it axes if they use .ndim?\n",
      "\n",
      "arr1 = np.array([randint(1,10) for _ in range(5)]) # we've created an array of 5 random digits\n",
      "print(arr1, arr1.ndim) # now we're displaying the array itself and its axes\n",
      "\n",
      "[2 4 4 2 9] 1\n",
      "How would you create an array with more than one axes?\n"
     ]
    }
   ],
   "source": [
    "import numpy as np\n",
    "from random import randint\n",
    "\n",
    "arr1 = np.array([randint(1,10) for _ in range(5)])\n",
    "print(\"Don't know why they call it axes if they use .ndim?\")\n",
    "print(\"\"\"\n",
    "arr1 = np.array([randint(1,10) for _ in range(5)]) # we've created an array of 5 random digits\n",
    "print(arr1, arr1.ndim) # now we're displaying the array itself and its axes\n",
    "\"\"\")\n",
    "print(arr1, arr1.ndim)\n",
    "print(\"How would you create an array with more than one axes?\")\n"
   ]
  },
  {
   "cell_type": "code",
   "execution_count": 84,
   "id": "5f78bbf8",
   "metadata": {},
   "outputs": [
    {
     "name": "stdout",
     "output_type": "stream",
     "text": [
      "\n",
      "def getArray(elements):\n",
      "    return np.array([randint(1,10) for _ in range(elements)])\n",
      "arr2 = np.array([getArray(5) for _ in range(3)])      \n",
      "\n",
      "[[4 1 9 1 2]\n",
      " [5 7 1 9 3]\n",
      " [7 4 9 9 2]] 2\n"
     ]
    }
   ],
   "source": [
    "def getArray(elements):\n",
    "    return np.array([randint(1,10) for _ in range(elements)])\n",
    "arr2 = np.array([getArray(5) for _ in range(3)])\n",
    "print(\"\"\"\n",
    "def getArray(elements):\n",
    "    return np.array([randint(1,10) for _ in range(elements)])\n",
    "arr2 = np.array([getArray(5) for _ in range(3)])      \n",
    "\"\"\")\n",
    "print(arr2, arr2.ndim)"
   ]
  },
  {
   "cell_type": "code",
   "execution_count": 85,
   "id": "4946fd27",
   "metadata": {},
   "outputs": [
    {
     "name": "stdout",
     "output_type": "stream",
     "text": [
      "What's the difference between python's and numpy's array class?\n"
     ]
    }
   ],
   "source": [
    "print(\"What's the difference between python's and numpy's array class?\")"
   ]
  },
  {
   "cell_type": "code",
   "execution_count": 86,
   "id": "92042b13",
   "metadata": {},
   "outputs": [
    {
     "name": "stdout",
     "output_type": "stream",
     "text": [
      "python's only handles one dimensional arrays, compared to numpy's ndarray\n"
     ]
    }
   ],
   "source": [
    "answer = data['3']\n",
    "print(answer)"
   ]
  },
  {
   "cell_type": "code",
   "execution_count": 87,
   "id": "892501b6",
   "metadata": {},
   "outputs": [
    {
     "name": "stdout",
     "output_type": "stream",
     "text": [
      "What is the shape of arr2?\n"
     ]
    }
   ],
   "source": [
    "print(\"What is the shape of arr2?\")"
   ]
  },
  {
   "cell_type": "code",
   "execution_count": 88,
   "id": "4385a9dc",
   "metadata": {},
   "outputs": [
    {
     "name": "stdout",
     "output_type": "stream",
     "text": [
      "(3, 5)\n"
     ]
    }
   ],
   "source": [
    "print(arr2.shape)"
   ]
  },
  {
   "cell_type": "code",
   "execution_count": 89,
   "id": "5161604c",
   "metadata": {},
   "outputs": [
    {
     "name": "stdout",
     "output_type": "stream",
     "text": [
      "What is the size of arr2?\n"
     ]
    }
   ],
   "source": [
    "print(\"What is the size of arr2?\")"
   ]
  },
  {
   "cell_type": "code",
   "execution_count": 91,
   "id": "dfe4b8a4",
   "metadata": {},
   "outputs": [
    {
     "name": "stdout",
     "output_type": "stream",
     "text": [
      "15\n"
     ]
    }
   ],
   "source": [
    "print(arr2.size)"
   ]
  },
  {
   "cell_type": "code",
   "execution_count": 92,
   "id": "1dab733a",
   "metadata": {},
   "outputs": [
    {
     "name": "stdout",
     "output_type": "stream",
     "text": [
      "What is the dtype of arr2?\n"
     ]
    }
   ],
   "source": [
    "print(\"What is the dtype of arr2?\")"
   ]
  },
  {
   "cell_type": "code",
   "execution_count": 93,
   "id": "4cbbca1e",
   "metadata": {},
   "outputs": [
    {
     "name": "stdout",
     "output_type": "stream",
     "text": [
      "int32\n"
     ]
    }
   ],
   "source": [
    "print(arr2.dtype)"
   ]
  },
  {
   "cell_type": "code",
   "execution_count": 94,
   "id": "8fb77d0a",
   "metadata": {},
   "outputs": [
    {
     "name": "stdout",
     "output_type": "stream",
     "text": [
      "What is the item size of arr2?\n"
     ]
    }
   ],
   "source": [
    "print(\"What is the item size of arr2?\")"
   ]
  },
  {
   "cell_type": "code",
   "execution_count": 95,
   "id": "cdaf1b7b",
   "metadata": {},
   "outputs": [
    {
     "name": "stdout",
     "output_type": "stream",
     "text": [
      "4\n"
     ]
    }
   ],
   "source": [
    "print(arr2.itemsize)"
   ]
  },
  {
   "cell_type": "code",
   "execution_count": 96,
   "id": "7f318902",
   "metadata": {},
   "outputs": [
    {
     "name": "stdout",
     "output_type": "stream",
     "text": [
      "Why would we ever use ndarray.data?\n"
     ]
    }
   ],
   "source": [
    "print(\"Why would we ever use ndarray.data?\")\n",
    "answer = data['4']"
   ]
  },
  {
   "cell_type": "code",
   "execution_count": 97,
   "id": "6b7da9d4",
   "metadata": {},
   "outputs": [
    {
     "name": "stdout",
     "output_type": "stream",
     "text": [
      "dealing with c, accessing the underlying memory buffer, GPU demands\n"
     ]
    }
   ],
   "source": [
    "print(answer)"
   ]
  }
 ],
 "metadata": {
  "kernelspec": {
   "display_name": "base",
   "language": "python",
   "name": "python3"
  },
  "language_info": {
   "codemirror_mode": {
    "name": "ipython",
    "version": 3
   },
   "file_extension": ".py",
   "mimetype": "text/x-python",
   "name": "python",
   "nbconvert_exporter": "python",
   "pygments_lexer": "ipython3",
   "version": "3.12.7"
  }
 },
 "nbformat": 4,
 "nbformat_minor": 5
}
